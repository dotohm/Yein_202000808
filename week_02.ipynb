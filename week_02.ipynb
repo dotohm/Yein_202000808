{
 "cells": [
  {
   "cell_type": "markdown",
   "id": "daba6df3-63a4-43bf-8194-10d835d386f3",
   "metadata": {},
   "source": [
    "### Ch02. Variables"
   ]
  },
  {
   "cell_type": "markdown",
   "id": "a07d6388-ec4b-426f-91be-64c29de82007",
   "metadata": {},
   "source": [
    "#### 자료형 변환하기\n",
    "- 종류: int, str, float, bool\n",
    "- 변환법: 변환하고자 하는 자료형으로 기존의 것을 감싸줌"
   ]
  },
  {
   "cell_type": "code",
   "execution_count": 1,
   "id": "9ab8bb54-991e-4c53-8769-d204ef46d4e1",
   "metadata": {},
   "outputs": [
    {
     "data": {
      "text/plain": [
       "int"
      ]
     },
     "execution_count": 1,
     "metadata": {},
     "output_type": "execute_result"
    }
   ],
   "source": [
    "a = 10\n",
    "type(a)"
   ]
  },
  {
   "cell_type": "markdown",
   "id": "ffdbd2c2-2ffa-4c60-8872-a04280e4edb1",
   "metadata": {},
   "source": [
    "_ 자료형 변환하기"
   ]
  },
  {
   "cell_type": "code",
   "execution_count": 2,
   "id": "76b95a96-1c0d-4d0e-9f7a-abf3765503f7",
   "metadata": {},
   "outputs": [
    {
     "data": {
      "text/plain": [
       "10.0"
      ]
     },
     "execution_count": 2,
     "metadata": {},
     "output_type": "execute_result"
    }
   ],
   "source": [
    "# int -> float\n",
    "float(a)"
   ]
  },
  {
   "cell_type": "code",
   "execution_count": 3,
   "id": "450994e7-495c-4ebf-afc2-8f8e779ce3d7",
   "metadata": {},
   "outputs": [
    {
     "data": {
      "text/plain": [
       "'10'"
      ]
     },
     "execution_count": 3,
     "metadata": {},
     "output_type": "execute_result"
    }
   ],
   "source": [
    "# int -> str\n",
    "str(a)"
   ]
  },
  {
   "cell_type": "code",
   "execution_count": 4,
   "id": "d5712b66-aa2d-4803-80d4-e638db4658bb",
   "metadata": {
    "tags": []
   },
   "outputs": [
    {
     "data": {
      "text/plain": [
       "True"
      ]
     },
     "execution_count": 4,
     "metadata": {},
     "output_type": "execute_result"
    }
   ],
   "source": [
    "# int -> bool\n",
    "bool(10) # 어떤 값이 False인지 기억하기"
   ]
  },
  {
   "cell_type": "code",
   "execution_count": 5,
   "id": "6fac469b-234c-4caa-a810-6d3ce4cfea42",
   "metadata": {},
   "outputs": [
    {
     "data": {
      "text/plain": [
       "10"
      ]
     },
     "execution_count": 5,
     "metadata": {},
     "output_type": "execute_result"
    }
   ],
   "source": [
    "# float -> int \n",
    "# int 변환 시 소수점 이하 값은 버림 (소수점 내림)\n",
    "int(10.9)"
   ]
  },
  {
   "cell_type": "code",
   "execution_count": 6,
   "id": "223774d0-a1d1-4251-a186-bd051c56555a",
   "metadata": {},
   "outputs": [
    {
     "name": "stdout",
     "output_type": "stream",
     "text": [
      "12\n",
      "11\n"
     ]
    }
   ],
   "source": [
    "x = 4.6\n",
    "y = 7.9\n",
    "\n",
    "print(int(x + y)) # 12.5 => 12\n",
    "print(int(x) + int(y)) #4 + 7 => 11"
   ]
  },
  {
   "cell_type": "code",
   "execution_count": 7,
   "id": "fe9f15b5-f916-4524-859f-155a671e48ef",
   "metadata": {},
   "outputs": [
    {
     "data": {
      "text/plain": [
       "88.3"
      ]
     },
     "execution_count": 7,
     "metadata": {},
     "output_type": "execute_result"
    }
   ],
   "source": [
    "# str -> int \n",
    "# str을 숫자로 바꿀 때는 str의 형태와 숫자 type이 일치해야 함\n",
    "p = '88.3'\n",
    "# int(p) => 오류 발생\n",
    "float(p)"
   ]
  },
  {
   "cell_type": "markdown",
   "id": "7d230cb4-2951-4c00-963b-9617395c9e2b",
   "metadata": {},
   "source": [
    "#### 꿀팁 \n",
    "print()"
   ]
  },
  {
   "cell_type": "code",
   "execution_count": 8,
   "id": "ac5ba460-550c-4db9-89c8-1d546b3bfc89",
   "metadata": {},
   "outputs": [
    {
     "name": "stdout",
     "output_type": "stream",
     "text": [
      "orange apple tomato\n",
      "the next line\n"
     ]
    }
   ],
   "source": [
    "print('orange', 'apple', 'tomato') # default: 띄어쓰기\n",
    "print(\"the next line\") # default: 줄 바꾸기"
   ]
  },
  {
   "cell_type": "code",
   "execution_count": 9,
   "id": "a53613ff-3238-4033-aba6-c2210a1552f1",
   "metadata": {},
   "outputs": [
    {
     "name": "stdout",
     "output_type": "stream",
     "text": [
      "orangeappletomato\n",
      "orange apple tomato\n",
      "orange_apple_tomato\n",
      "\n",
      "EOL\n"
     ]
    }
   ],
   "source": [
    "orange = 'orange'\n",
    "apple = 'apple'\n",
    "tomato = 'tomato'\n",
    "\n",
    "#1.\n",
    "print(orange + apple + tomato) # + 로 연결 가능하지만 원소들 간의 공백 사라짐\n",
    "print(orange, apple, tomato, sep=' ', end='\\n') # default\n",
    "print(orange, apple, tomato, sep='_', end='\\n\\n')\n",
    "print('EOL')"
   ]
  },
  {
   "cell_type": "code",
   "execution_count": 10,
   "id": "f7b91133-5e5c-4a45-b66d-7522d5ba29a2",
   "metadata": {},
   "outputs": [],
   "source": [
    "# 라인이 짧을 때 => ; 사용하여 연결\n",
    "orange = 'orange'; apple = 'apple'; tomato = 'tomato'"
   ]
  },
  {
   "cell_type": "code",
   "execution_count": 11,
   "id": "11776c07-a914-4610-986f-7105d9f6c5ba",
   "metadata": {},
   "outputs": [
    {
     "name": "stdout",
     "output_type": "stream",
     "text": [
      "5\n"
     ]
    }
   ],
   "source": [
    "num = 5; print(num)"
   ]
  },
  {
   "cell_type": "markdown",
   "id": "1d69bad1-064c-438f-90c7-0095e0c06424",
   "metadata": {},
   "source": [
    "## input()\n",
    "- console에서 값을 입력 받는 함수\n",
    "- 입출력 관련된\n",
    "- 입력 받는 값의 타입은 문자열 (str)\n",
    "- 입력 받은 값을 변수에 담아서 사용함"
   ]
  },
  {
   "cell_type": "code",
   "execution_count": 13,
   "id": "7b257114-8f26-40ad-999d-d8372e446daf",
   "metadata": {},
   "outputs": [
    {
     "name": "stdin",
     "output_type": "stream",
     "text": [
      "What's your name? Yein\n"
     ]
    },
    {
     "data": {
      "text/plain": [
       "'Yein'"
      ]
     },
     "execution_count": 13,
     "metadata": {},
     "output_type": "execute_result"
    }
   ],
   "source": [
    "input(\"What's your name?\")"
   ]
  },
  {
   "cell_type": "markdown",
   "id": "03042bd3-6574-4ddc-9aee-40d09c7ce27a",
   "metadata": {},
   "source": [
    "_ 변수 할당하는 2가지 방법"
   ]
  },
  {
   "cell_type": "code",
   "execution_count": 14,
   "id": "e0704202-5f11-45be-88b4-b6cb7b55e7b8",
   "metadata": {},
   "outputs": [
    {
     "name": "stdin",
     "output_type": "stream",
     "text": [
      "What's your name? Yein\n"
     ]
    }
   ],
   "source": [
    "# 1.\n",
    "name = input(\"What's your name?\")"
   ]
  },
  {
   "cell_type": "code",
   "execution_count": 15,
   "id": "279ef8ec-0b33-4a05-bfc3-b94829f24b9b",
   "metadata": {},
   "outputs": [
    {
     "data": {
      "text/plain": [
       "'Yein'"
      ]
     },
     "execution_count": 15,
     "metadata": {},
     "output_type": "execute_result"
    }
   ],
   "source": [
    "name"
   ]
  },
  {
   "cell_type": "code",
   "execution_count": 17,
   "id": "f2f460a5-9cf8-4196-b7f5-5783e786836f",
   "metadata": {},
   "outputs": [
    {
     "name": "stdout",
     "output_type": "stream",
     "text": [
      "What's your name\n"
     ]
    },
    {
     "name": "stdin",
     "output_type": "stream",
     "text": [
      " Yein\n"
     ]
    }
   ],
   "source": [
    "# 2.\n",
    "print(\"What's your name\")\n",
    "name = input()"
   ]
  },
  {
   "cell_type": "code",
   "execution_count": 18,
   "id": "a9bb3271-4e3f-4e5e-b326-9a11743fc272",
   "metadata": {},
   "outputs": [
    {
     "name": "stdout",
     "output_type": "stream",
     "text": [
      "Yein\n"
     ]
    }
   ],
   "source": [
    "print(name)"
   ]
  },
  {
   "cell_type": "markdown",
   "id": "1c558bd0-4bd6-48aa-aa8d-b07fc682ca8c",
   "metadata": {},
   "source": [
    "_ input을 str이 아닌 다른 타입으로 사용하고 싶을 때에는 형 변환을 미리 해줌"
   ]
  },
  {
   "cell_type": "code",
   "execution_count": 19,
   "id": "192a330d-5b0c-438a-bbdd-8fee0c3b723b",
   "metadata": {},
   "outputs": [
    {
     "name": "stdin",
     "output_type": "stream",
     "text": [
      "How old are you? 23\n"
     ]
    }
   ],
   "source": [
    "age = input(\"How old are you?\")"
   ]
  },
  {
   "cell_type": "code",
   "execution_count": 20,
   "id": "45cf5518-fcc8-4952-a985-0d218fb80d60",
   "metadata": {},
   "outputs": [
    {
     "data": {
      "text/plain": [
       "str"
      ]
     },
     "execution_count": 20,
     "metadata": {},
     "output_type": "execute_result"
    }
   ],
   "source": [
    "type(age)"
   ]
  },
  {
   "cell_type": "code",
   "execution_count": 21,
   "id": "18f74f7a-fe90-4c7c-a72d-723a2065fad2",
   "metadata": {},
   "outputs": [
    {
     "name": "stdin",
     "output_type": "stream",
     "text": [
      "How old are you? 23\n"
     ]
    }
   ],
   "source": [
    "age = int(input(\"How old are you?\"))"
   ]
  },
  {
   "cell_type": "code",
   "execution_count": 22,
   "id": "f9510952-4ae4-4aeb-8e48-dddd17af6d6a",
   "metadata": {},
   "outputs": [
    {
     "name": "stdout",
     "output_type": "stream",
     "text": [
      "당신이 태어난 해는 2000 입니다.\n"
     ]
    }
   ],
   "source": [
    "print('당신이 태어난 해는', 2022 - age + 1, '입니다.') # 연산이 가능함"
   ]
  },
  {
   "cell_type": "markdown",
   "id": "4ed7ca56-3d32-4a8b-953c-97414b22eb2c",
   "metadata": {},
   "source": [
    "#### printing"
   ]
  },
  {
   "cell_type": "code",
   "execution_count": 23,
   "id": "a4a78af1-a78c-4418-a28f-a68f39e3147b",
   "metadata": {},
   "outputs": [
    {
     "name": "stdout",
     "output_type": "stream",
     "text": [
      "당신이 태어난 해는 2000년 입니다!\n"
     ]
    }
   ],
   "source": [
    "print(f'당신이 태어난 해는 {2022 - age + 1}년 입니다!') # print(f'{<variable>}')"
   ]
  },
  {
   "cell_type": "markdown",
   "id": "151a3382-fb8d-429f-9670-2d35dd4a8802",
   "metadata": {},
   "source": [
    "### Quiz 1\n",
    "- 택배 정보를 입력 받고 무게에 따른 값 산정하기\n",
    "    - 수취인 성명:\n",
    "    - 수취인 주소:\n",
    "    - 배송비: 3000원\n",
    "    - 물건 비용: <계산된 값>원\n",
    "    - 총 합계: <계산된 값>원\n",
    "- 물건 비용은 무게(g) * 5\n",
    "- 입력 값 = 이름, 주소, 무게"
   ]
  },
  {
   "cell_type": "code",
   "execution_count": 25,
   "id": "a97eb682-23a9-479c-9f62-00c26b3ee92c",
   "metadata": {},
   "outputs": [
    {
     "name": "stdin",
     "output_type": "stream",
     "text": [
      "수취인 성명:  Yein\n",
      "수취인 주소:  Seoul\n",
      "물건의 무게:  70\n"
     ]
    }
   ],
   "source": [
    "name = input('수취인 성명: ')\n",
    "address = input('수취인 주소: ')\n",
    "weight = int(input('물건의 무게: '))\n",
    "shipping_fee = 3000\n",
    "product_fee = weight * 5"
   ]
  },
  {
   "cell_type": "code",
   "execution_count": 26,
   "id": "a53562bb-25e9-48ce-bac1-49f7eb740d7b",
   "metadata": {},
   "outputs": [
    {
     "name": "stdout",
     "output_type": "stream",
     "text": [
      "수취인 성명: Yein\n",
      "수취인 주소: Seoul\n",
      "배송비: 3000원\n",
      "물건 비용: 350원\n",
      "총 합계: 3350원\n"
     ]
    }
   ],
   "source": [
    "print(f'수취인 성명: {name}')\n",
    "print(f'수취인 주소: {address}')\n",
    "print('배송비: 3000원')\n",
    "print(f'물건 비용: {product_fee}원')\n",
    "print(f'총 합계: {shipping_fee + product_fee}원')"
   ]
  },
  {
   "cell_type": "markdown",
   "id": "a73fa196-6c58-46ba-97a7-f56d86cf873a",
   "metadata": {},
   "source": [
    "## Ch03. Numbers"
   ]
  },
  {
   "cell_type": "markdown",
   "id": "8e14eec5-bfe0-4aa8-ac34-859955eb5e52",
   "metadata": {},
   "source": [
    "### boolean\n",
    "- True / False\n",
    "- False인 값 = 비어있는 값\n",
    "- if문 (조건식)에서 주로 사용: '만역 어떤 값이 True면 ...'"
   ]
  },
  {
   "cell_type": "markdown",
   "id": "fae5b9ed-3d13-4873-8528-a348a48d2d8b",
   "metadata": {},
   "source": [
    "_ False인 값"
   ]
  },
  {
   "cell_type": "code",
   "execution_count": 27,
   "id": "af7b39db-a344-41fc-be4c-52cfe1332332",
   "metadata": {},
   "outputs": [
    {
     "data": {
      "text/plain": [
       "False"
      ]
     },
     "execution_count": 27,
     "metadata": {},
     "output_type": "execute_result"
    }
   ],
   "source": [
    "bool(0)"
   ]
  },
  {
   "cell_type": "code",
   "execution_count": 28,
   "id": "badd8000-b1b8-47d4-bb3c-98aa2756af5a",
   "metadata": {},
   "outputs": [
    {
     "data": {
      "text/plain": [
       "False"
      ]
     },
     "execution_count": 28,
     "metadata": {},
     "output_type": "execute_result"
    }
   ],
   "source": [
    "bool('')"
   ]
  },
  {
   "cell_type": "markdown",
   "id": "5e8e67ca-0afd-4e98-b94c-f7de5e78e669",
   "metadata": {},
   "source": [
    "### Integer\n",
    "- 분수나 소수가 아닌 정수\n",
    "- 음수는 '-' 기호를 사용: i.e., -50\n",
    "- default = 양수\n",
    "- 숫자 앞에는 0을 사용하지 못함 i.e., 09\n",
    "    - 예외적으로 10진수가 아닐 때는 가능 i.e., 0bxx\n",
    "    - 단, 10진수 외에는 사용할 일이 없음\n",
    "- 숫자 사이에 쉼표를 쓰면 오류 발생: 100,000\n",
    "    - 100과 000을 따로 인식\n",
    "    - 따라서 _를 사용 i.e., 100_000\n",
    "    - 즉, 숫자 사이의 언더바는 인식하지 않음"
   ]
  },
  {
   "cell_type": "code",
   "execution_count": 29,
   "id": "492f3a49-8c73-497d-b60b-e83737ede78b",
   "metadata": {},
   "outputs": [
    {
     "ename": "SyntaxError",
     "evalue": "leading zeros in decimal integer literals are not permitted; use an 0o prefix for octal integers (Temp/ipykernel_62096/2289478832.py, line 1)",
     "output_type": "error",
     "traceback": [
      "\u001b[1;36m  File \u001b[1;32m\"C:\\Users\\dotoh\\AppData\\Local\\Temp/ipykernel_62096/2289478832.py\"\u001b[1;36m, line \u001b[1;32m1\u001b[0m\n\u001b[1;33m    a = 09 #숫자 앞에 0 사용 못함\u001b[0m\n\u001b[1;37m         ^\u001b[0m\n\u001b[1;31mSyntaxError\u001b[0m\u001b[1;31m:\u001b[0m leading zeros in decimal integer literals are not permitted; use an 0o prefix for octal integers\n"
     ]
    }
   ],
   "source": [
    "a = 09 #숫자 앞에 0 사용 못함"
   ]
  },
  {
   "cell_type": "code",
   "execution_count": 30,
   "id": "61e6b117-3a05-4ef5-b97c-4c455a329695",
   "metadata": {},
   "outputs": [
    {
     "data": {
      "text/plain": [
       "-1"
      ]
     },
     "execution_count": 30,
     "metadata": {},
     "output_type": "execute_result"
    }
   ],
   "source": [
    "a = -50\n",
    "b = 49\n",
    "a + b"
   ]
  },
  {
   "cell_type": "markdown",
   "id": "b4177e17-1684-4393-b000-6f1ba4b39380",
   "metadata": {},
   "source": [
    "### 연산자| operator\n",
    "    - +, -, *, /\n",
    "    - 피연산자|operand: 1, 2, ...\n",
    "    - 수식|expression"
   ]
  },
  {
   "cell_type": "code",
   "execution_count": 31,
   "id": "532c08cb-6d73-4a28-91b7-1690f2eda38b",
   "metadata": {},
   "outputs": [
    {
     "data": {
      "text/plain": [
       "6561"
      ]
     },
     "execution_count": 31,
     "metadata": {},
     "output_type": "execute_result"
    }
   ],
   "source": [
    "x = 9\n",
    "y = 4\n",
    "\n",
    "#연산\n",
    "x + y\n",
    "x - y\n",
    "x * y\n",
    "x / y\n",
    "x ** y # 거듭제곱(exponential)"
   ]
  },
  {
   "cell_type": "markdown",
   "id": "3918d698-e305-46c3-a70e-b9e7ad7cfdc0",
   "metadata": {},
   "source": [
    "_나눗셈 관련 연산자들"
   ]
  },
  {
   "cell_type": "code",
   "execution_count": 32,
   "id": "ea34afbe-83e3-4820-876d-2185806402e3",
   "metadata": {},
   "outputs": [
    {
     "data": {
      "text/plain": [
       "(2, 1)"
      ]
     },
     "execution_count": 32,
     "metadata": {},
     "output_type": "execute_result"
    }
   ],
   "source": [
    "# 몫과 나머지\n",
    "x / y\n",
    "\n",
    "# 몫\n",
    "x // y\n",
    "\n",
    "# 나머지\n",
    "x % y\n",
    "\n",
    "#예쁜 몫과 나머지\n",
    "divmod(x, y)"
   ]
  },
  {
   "cell_type": "code",
   "execution_count": 33,
   "id": "fd2403a3-9627-47c1-a0bc-234c45be8412",
   "metadata": {},
   "outputs": [],
   "source": [
    "# division by zero 항시 유의"
   ]
  },
  {
   "cell_type": "code",
   "execution_count": 34,
   "id": "d09df98f-1245-4ae2-9fab-eae3142bad0b",
   "metadata": {},
   "outputs": [
    {
     "data": {
      "text/plain": [
       "20"
      ]
     },
     "execution_count": 34,
     "metadata": {},
     "output_type": "execute_result"
    }
   ],
   "source": [
    "# 숫자 사이의 공백은 무시됨\n",
    "1 + 9 +       +10"
   ]
  },
  {
   "cell_type": "markdown",
   "id": "37d8557b-b739-4942-a2e4-604eb2f0cff0",
   "metadata": {},
   "source": [
    "#### 복합 대입 연산자 | compound assignment operator"
   ]
  },
  {
   "cell_type": "code",
   "execution_count": 35,
   "id": "a8e07f59-5a57-4634-be53-f33d474bd9b8",
   "metadata": {},
   "outputs": [
    {
     "name": "stdout",
     "output_type": "stream",
     "text": [
      "5\n"
     ]
    }
   ],
   "source": [
    "x = 5\n",
    "x - 3\n",
    "print(x) # x를 뺀 값을 대입하지 않았기에 x = 5"
   ]
  },
  {
   "cell_type": "code",
   "execution_count": 36,
   "id": "ee213fc4-34dd-4671-811f-7c044e1054b3",
   "metadata": {},
   "outputs": [
    {
     "name": "stdout",
     "output_type": "stream",
     "text": [
      "2\n"
     ]
    }
   ],
   "source": [
    "x = x - 3\n",
    "print(x)"
   ]
  },
  {
   "cell_type": "code",
   "execution_count": 37,
   "id": "71dc5c8a-c682-44de-a84c-40c374538ad8",
   "metadata": {},
   "outputs": [
    {
     "name": "stdout",
     "output_type": "stream",
     "text": [
      "-1\n"
     ]
    }
   ],
   "source": [
    "x -= 3\n",
    "print(x) # 2 - 3"
   ]
  },
  {
   "cell_type": "markdown",
   "id": "b8b7505b-a323-482d-839d-aa015c05afb8",
   "metadata": {},
   "source": [
    "_숨겨진 논리"
   ]
  },
  {
   "cell_type": "code",
   "execution_count": 38,
   "id": "a3e0c9b8-31e0-4d88-bdb2-00accaad3b20",
   "metadata": {},
   "outputs": [],
   "source": [
    "#1. x - 3 계산\n",
    "#2. temp = x - 3 (임의 변수에 담는다)\n",
    "#3. x = temp"
   ]
  },
  {
   "cell_type": "markdown",
   "id": "e771116d-2d3d-44e7-a4f4-034bed003a0d",
   "metadata": {},
   "source": [
    "x += 3\n",
    "x -= 3\n",
    "x *= 3\n",
    "x /= 3"
   ]
  },
  {
   "cell_type": "markdown",
   "id": "ea4d5934-0aee-4c3f-b83e-04b982fb1cb5",
   "metadata": {},
   "source": [
    "### Quiz 1.\n",
    "- 반지름을 입력 받아서 원의 면적 구하기\n",
    "- 면적 = pi * r제곱"
   ]
  },
  {
   "cell_type": "code",
   "execution_count": 39,
   "id": "f06b4331-a865-47f7-a1f3-d443625f628e",
   "metadata": {},
   "outputs": [
    {
     "name": "stdin",
     "output_type": "stream",
     "text": [
      "반지름을 입력하세요:  8.5\n"
     ]
    },
    {
     "name": "stdout",
     "output_type": "stream",
     "text": [
      "226.865\n"
     ]
    }
   ],
   "source": [
    "radius = float(input('반지름을 입력하세요: '))\n",
    "pi = 3.14\n",
    "area = radius ** 2 *pi\n",
    "print(area)"
   ]
  },
  {
   "cell_type": "markdown",
   "id": "e68b4fb1-e5d5-415a-a4d1-6a6b5782cc57",
   "metadata": {},
   "source": [
    "### Quiz 2.\n",
    "- 숫자를 입력 받고 3의 배수인지 확인하기\n",
    "- 숫자를 입력 받고 홀수인지 확인하기"
   ]
  },
  {
   "cell_type": "code",
   "execution_count": 40,
   "id": "1a77908f-0fdf-4fc5-a706-10de097748d6",
   "metadata": {},
   "outputs": [
    {
     "name": "stdin",
     "output_type": "stream",
     "text": [
      "숫자를 입력하세요:  12\n"
     ]
    },
    {
     "name": "stdout",
     "output_type": "stream",
     "text": [
      "12은 3의 배수인가요? True\n",
      " \n"
     ]
    },
    {
     "name": "stdin",
     "output_type": "stream",
     "text": [
      "숫자를 입력하세요:  48\n"
     ]
    },
    {
     "name": "stdout",
     "output_type": "stream",
     "text": [
      "48는 홀수 인가요? False\n"
     ]
    }
   ],
   "source": [
    "#1. \n",
    "num_1 = int(input('숫자를 입력하세요: '))\n",
    "check_3 = num_1 % 3\n",
    "print(f'{num_1}은 3의 배수인가요? {not bool(check_3)}')\n",
    "print(' ')\n",
    "\n",
    "num_2 = int(input('숫자를 입력하세요: '))\n",
    "check_2 = num_2 % 2\n",
    "print(f'{num_2}는 홀수 인가요? {bool(check_2)}')"
   ]
  },
  {
   "cell_type": "code",
   "execution_count": 42,
   "id": "b9d8c77c-db8f-4335-81bf-340e4127a1ca",
   "metadata": {},
   "outputs": [
    {
     "name": "stdin",
     "output_type": "stream",
     "text": [
      "숫자를 입력하세요:  12\n"
     ]
    },
    {
     "data": {
      "text/plain": [
       "True"
      ]
     },
     "execution_count": 42,
     "metadata": {},
     "output_type": "execute_result"
    }
   ],
   "source": [
    "#2.\n",
    "num = int(input('숫자를 입력하세요: '))\n",
    "bool(num % 3 == 0)"
   ]
  },
  {
   "cell_type": "markdown",
   "id": "f43e0764-ad21-461b-b2dd-0677670d5825",
   "metadata": {},
   "source": [
    "### 지수 표현\n",
    "- 예: '1.0e-4'\n",
    "- e의 앞부분은 소수, 정수 둘 다 됨\n",
    "- 뒷부분은 정수여야 함\n",
    "- 뒷부분이 음수면 소수점 자릿수를 의미함\n",
    "- e, E 모두 가능"
   ]
  },
  {
   "cell_type": "code",
   "execution_count": 43,
   "id": "cd32cd17-c24f-4a49-ab5c-c6decccaa892",
   "metadata": {},
   "outputs": [
    {
     "data": {
      "text/plain": [
       "0.0004005"
      ]
     },
     "execution_count": 43,
     "metadata": {},
     "output_type": "execute_result"
    }
   ],
   "source": [
    "# 0.0004005 => 지수로 표현하기\n",
    "4005.0e-7\n",
    "4.005e-4"
   ]
  },
  {
   "cell_type": "markdown",
   "id": "c9fde51d-0005-4e65-9945-b1ec4c8bd9f6",
   "metadata": {},
   "source": [
    "### IF 조건문"
   ]
  },
  {
   "cell_type": "markdown",
   "id": "f2873c3b-4f49-4160-8c55-06af5db7ba03",
   "metadata": {},
   "source": [
    "#### 코드 짜는 팁\n",
    "- 주석 달기\n",
    "    - 특징\n",
    "        - #(hash, sharp,...) 기호를 사용\n",
    "        - #가 시작된 지점부터 라인 끝까지가 주석 처리됨\n",
    "        - 라인이 바뀌면 코드로 인식\n",
    "        - \"\"\" \"\"\" : 긴 주석에 사용함\n",
    "        - 문자열 안에 있는 #은 부호로 인식됨\n",
    "    - 사용 이유\n",
    "        - 코드에 대한 설명은 최대한 하지 않아야 함\n",
    "        - 코드의 의도를 나타내거나, 오류가 있다거나 ,,,\n",
    "        - 의미 이외의 것을 설명하기 위해\n",
    "- 라인 유지하기\n",
    "    - 들여쓰기\n",
    "        - tab을 이용하면 됨\n",
    "        - default = space * 4\n",
    "        - 논리 구조를 나타내기 때문에 굉장히 중요함\n",
    "    - 한 라인에 80자 정도 들어감\n",
    "    - 라인을 넘어가면 백슬래쉬\\로 끊어줌"
   ]
  },
  {
   "cell_type": "code",
   "execution_count": 44,
   "id": "b6191c4c-0287-4e06-8ec0-b743125804f8",
   "metadata": {},
   "outputs": [
    {
     "name": "stdout",
     "output_type": "stream",
     "text": [
      "3\n"
     ]
    }
   ],
   "source": [
    "a = 3 # 주석입니다\n",
    "\"\"\"\n",
    "주석1\n",
    "주석2\n",
    "주석3\n",
    "\"\"\"\n",
    "print(a)"
   ]
  },
  {
   "cell_type": "code",
   "execution_count": 45,
   "id": "9db0a98e-d350-44f8-b668-b64391a8aeab",
   "metadata": {},
   "outputs": [
    {
     "name": "stdout",
     "output_type": "stream",
     "text": [
      "hey, ther #\n"
     ]
    }
   ],
   "source": [
    "print('hey, ther #') #문자열 안에서는 부호로 인식"
   ]
  },
  {
   "cell_type": "markdown",
   "id": "1c92209d-5e45-48fd-976d-50045ae3e9c3",
   "metadata": {},
   "source": [
    "### if"
   ]
  },
  {
   "cell_type": "raw",
   "id": "986585c5-1815-47a6-b23b-f09c35987e41",
   "metadata": {},
   "source": [
    "- if <조건식>:\n",
    "    <실행할 코드>"
   ]
  },
  {
   "cell_type": "code",
   "execution_count": 46,
   "id": "8b18937c-4b22-4d91-bfe8-654738b91459",
   "metadata": {},
   "outputs": [],
   "source": [
    "if 3 == 1:\n",
    "    print(\"두 수는 같다\")\n",
    "# 조건식이 False이기에 print 되지 않음"
   ]
  },
  {
   "cell_type": "raw",
   "id": "dbcadb24-84cd-4df8-aa7f-f0809a49a392",
   "metadata": {},
   "source": [
    "- if-else:\n",
    "if <조건식>:\n",
    "    <실행할 코드1>\n",
    "else:\n",
    "    <실행할 코드2>"
   ]
  },
  {
   "cell_type": "code",
   "execution_count": 47,
   "id": "b62cfb2c-17a8-40a6-baae-3dd4b29cf4d9",
   "metadata": {},
   "outputs": [
    {
     "name": "stdout",
     "output_type": "stream",
     "text": [
      "두 수는 같지 않다\n"
     ]
    }
   ],
   "source": [
    "if 3 != 1:\n",
    "    print('두 수는 같지 않다')\n",
    "else:\n",
    "    print('두 수가 같다')"
   ]
  },
  {
   "cell_type": "raw",
   "id": "6ba5afa5-fa8f-43df-a881-70639bbcff03",
   "metadata": {},
   "source": [
    "if-elif-else:\n",
    "if <조건식1>:\n",
    "    <실행할 코드1>\n",
    "elif <조건식2>:\n",
    "    <실행할 코드3>\n",
    "else:\n",
    "    <실행할 코드2>\n",
    "# 조건식 1에서 코드가 실행되면 조건식 2로 넘어가지 않음"
   ]
  },
  {
   "cell_type": "code",
   "execution_count": 48,
   "id": "838b84a8-9128-4a5b-b889-4fa896b4b31a",
   "metadata": {},
   "outputs": [
    {
     "name": "stdout",
     "output_type": "stream",
     "text": [
      "3보다 크다\n"
     ]
    }
   ],
   "source": [
    "a = 4\n",
    "if a < 3:\n",
    "    print('3보다 작다')\n",
    "elif a == 3:\n",
    "    print('3이다')\n",
    "else:\n",
    "    print('3보다 크다')\n",
    "\n",
    "# if와 elif의 조건식을 만족하지 못해 else까지 넘어옴"
   ]
  },
  {
   "cell_type": "code",
   "execution_count": 50,
   "id": "d03361c9-3cbd-471f-8de0-ba9b39e95292",
   "metadata": {},
   "outputs": [],
   "source": [
    "if a < 3:\n",
    "    print('3보다 작다')\n",
    "if a == 3:\n",
    "    print('3이다')\n",
    "if a > 4:\n",
    "    print('3보다 크다')\n",
    "\n",
    "# if 각각을 별개로 실행시키도 만족시키는 조건이 없어 값이 출력되지 않음"
   ]
  },
  {
   "cell_type": "markdown",
   "id": "c006a8dc-6c71-4ccd-9b6c-63d5ad90a531",
   "metadata": {},
   "source": [
    "### 비교 연산자\n",
    "- x < y\n",
    "- x > y\n",
    "- x >= y\n",
    "- x <= y\n",
    "- x == y (값이 다르다)\n",
    "- x != y\n",
    "- x is y (값, 메머리 주소)\n",
    "- x is not y"
   ]
  },
  {
   "cell_type": "markdown",
   "id": "960243ed-8338-4361-ad0f-aaa977db71ea",
   "metadata": {},
   "source": [
    "### Quiz\n",
    "- 1. 시험 점수를 입력 받고, 80점 이상이면 True, 아니면 False 반환하기\n",
    "- 2. 시험 점수를 입력 받고, 95점 이상 A+, 90점 이상 A, 85점 이상 B+, 나머지는 F로 출력하세요."
   ]
  },
  {
   "cell_type": "code",
   "execution_count": 53,
   "id": "fc43e317-f99e-46b4-a5e3-9e7020bd62c1",
   "metadata": {},
   "outputs": [
    {
     "name": "stdin",
     "output_type": "stream",
     "text": [
      "시험 점수를 입력하세요:  90\n"
     ]
    },
    {
     "name": "stdout",
     "output_type": "stream",
     "text": [
      "True\n"
     ]
    }
   ],
   "source": [
    "#1.\n",
    "score = int(input('시험 점수를 입력하세요: '))\n",
    "\n",
    "if score >= 80:\n",
    "    print(True)\n",
    "else:\n",
    "    print(False)"
   ]
  },
  {
   "cell_type": "code",
   "execution_count": 54,
   "id": "9bf85ed9-1b43-4e9a-92bd-367917f1dcb8",
   "metadata": {},
   "outputs": [
    {
     "name": "stdin",
     "output_type": "stream",
     "text": [
      "시험 점수를 입력하세요:  93\n"
     ]
    },
    {
     "name": "stdout",
     "output_type": "stream",
     "text": [
      "A\n"
     ]
    }
   ],
   "source": [
    "#2.\n",
    "score = int(input('시험 점수를 입력하세요: '))\n",
    "\n",
    "if score >= 95:\n",
    "    print('A+')\n",
    "elif score >= 90:\n",
    "    print('A')\n",
    "elif score >= 85:\n",
    "    print('B+')\n",
    "else:\n",
    "    print('F')"
   ]
  }
 ],
 "metadata": {
  "kernelspec": {
   "display_name": "Python 3 (ipykernel)",
   "language": "python",
   "name": "python3"
  },
  "language_info": {
   "codemirror_mode": {
    "name": "ipython",
    "version": 3
   },
   "file_extension": ".py",
   "mimetype": "text/x-python",
   "name": "python",
   "nbconvert_exporter": "python",
   "pygments_lexer": "ipython3",
   "version": "3.9.7"
  }
 },
 "nbformat": 4,
 "nbformat_minor": 5
}
