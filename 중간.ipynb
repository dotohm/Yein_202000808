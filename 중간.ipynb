{
 "cells": [
  {
   "cell_type": "markdown",
   "id": "eafd20dc-70c5-4e5b-ad2b-b45dbee8bb85",
   "metadata": {},
   "source": [
    "### 문제점\n",
    "1. 모든 상황에서 q를 눌러 종료할 수 있어야 한다는데 num_1같은걸 int로 받아버려서 어케 해야 할 지 모르겠음 ,,,,\n",
    "    - 처음에 메뉴를 1로 선택하고 출력단을 입력할 때 q를 누르면 종료되어야 하는데 그게 안된다 이 말 ,,\n",
    "2. 어떤 상황에도 오류가 나면 안된다는데 이것두 ,, 1번처럼 단입력에 영어를 입력하면 int가 아니라서 오류가 발생하게 되는데 어케 해결하쥬 ,,,?\n",
    "    - num_1 = input('')으로 받고 enldp if문에서 0<int(num_1)<10으로 해도 안되더라구 ,,, 흑"
   ]
  },
  {
   "cell_type": "code",
   "execution_count": 36,
   "id": "d7a5be70-b5d2-4de3-8ac7-04232cf42aab",
   "metadata": {},
   "outputs": [
    {
     "name": "stdin",
     "output_type": "stream",
     "text": [
      "\n",
      "구구단 출력기\n",
      "----------------------------------------------------------------------\n",
      "\t 1) n단 출력    2) n단까지 출력   3) n ~ m단 출력   q) 나가기\n",
      "----------------------------------------------------------------------\n",
      "메뉴를 선택하세요 >  q\n"
     ]
    },
    {
     "name": "stdout",
     "output_type": "stream",
     "text": [
      "이용해주셔서 감사합니다.\n"
     ]
    }
   ],
   "source": [
    "#1. 구구단 출력기\n",
    "while True:\n",
    "    choose_num = input(\"\"\"\n",
    "구구단 출력기\n",
    "----------------------------------------------------------------------\n",
    "\t 1) n단 출력    2) n단까지 출력   3) n ~ m단 출력   q) 나가기\n",
    "----------------------------------------------------------------------\n",
    "메뉴를 선택하세요 > \"\"\")\n",
    "\n",
    "    if choose_num == '1':\n",
    "        num_1 = int(input('출력할 단을 입력해주세요'))\n",
    "        print(f'-----------{num_1}단------------')\n",
    "        if  0 < num_1 < 10:\n",
    "            for n in range(1, 10):\n",
    "                print(f'{num_1} * {n} = {num_1 * n}')\n",
    "            else:\n",
    "                print('이용해주셔서 감사합니다,')\n",
    "                break\n",
    "        else:\n",
    "            print('올바른 범위로 다시 입력해주세요')\n",
    "    elif choose_num == '2':\n",
    "        num_2 = int(input('몇 단까지 출력할까요'))\n",
    "        if  0 < num_2 < 10:\n",
    "            for n in range(1, num_2 + 1):\n",
    "                print(f'-----------{n}단------------')\n",
    "                for i in range(1, 10):\n",
    "                    print(f'{n} * {i} = {n * i}')\n",
    "            else:\n",
    "                print('이용해주셔서 감사합니다.')\n",
    "                break  \n",
    "        else:\n",
    "            print('올바른 범위로 다시 입력해주세요')\n",
    "    elif choose_num == '3':\n",
    "        num_3 = int(input('몇 단부터 출력할까요'))\n",
    "        num_4 = int(input('몇 단까지 출력할까요'))\n",
    "        if num_3 <= num_4 and 0 < num_3 < 10 and 0 < num_4 < 10:\n",
    "            for n in range(num_3, num_4 + 1):\n",
    "                print(f'-----------{n}단------------')\n",
    "                for i in range(1, 10):\n",
    "                    print(f'{n} * {i} = {n * i}')\n",
    "            else:\n",
    "                print('이용해주셔서 감사합니다.')\n",
    "                break\n",
    "        else:\n",
    "            print('올바른 범위로 다시 입력해주세요')\n",
    "    elif choose_num == 'q':\n",
    "        print('이용해주셔서 감사합니다.')\n",
    "        break\n",
    "    else:\n",
    "        print('메뉴에 있는 버전을 선택해주세요')     "
   ]
  },
  {
   "cell_type": "markdown",
   "id": "89efb800-2e2f-4e3a-a85d-4bc2c167d787",
   "metadata": {},
   "source": [
    "### 문제점 2\n",
    "해리포터 txt다운 받고 "
   ]
  },
  {
   "cell_type": "code",
   "execution_count": 71,
   "id": "fd643842-7889-4ecb-b4e2-55d0a227d209",
   "metadata": {},
   "outputs": [],
   "source": [
    "#2. 해리포터 정제하기\n",
    "#2.1 파일 불러오기\n",
    "f = open('HarryPotter.txt', 'r', encoding='UTF8')\n",
    "data = f.readline()\n",
    "f.close()"
   ]
  },
  {
   "cell_type": "code",
   "execution_count": 72,
   "id": "25596e49-75a7-4442-a768-7c327017057a",
   "metadata": {},
   "outputs": [
    {
     "data": {
      "text/plain": [
       "'/ \\n'"
      ]
     },
     "execution_count": 72,
     "metadata": {},
     "output_type": "execute_result"
    }
   ],
   "source": [
    "data"
   ]
  },
  {
   "cell_type": "code",
   "execution_count": null,
   "id": "8d1ef40e-67a3-4e8c-a96f-bbfa3c7d0ea6",
   "metadata": {},
   "outputs": [],
   "source": []
  }
 ],
 "metadata": {
  "kernelspec": {
   "display_name": "Python 3 (ipykernel)",
   "language": "python",
   "name": "python3"
  },
  "language_info": {
   "codemirror_mode": {
    "name": "ipython",
    "version": 3
   },
   "file_extension": ".py",
   "mimetype": "text/x-python",
   "name": "python",
   "nbconvert_exporter": "python",
   "pygments_lexer": "ipython3",
   "version": "3.9.7"
  }
 },
 "nbformat": 4,
 "nbformat_minor": 5
}
