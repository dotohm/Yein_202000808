{
 "cells": [
  {
   "cell_type": "markdown",
   "id": "d942b99a-ce2e-476d-b92f-efa82f9caa3b",
   "metadata": {},
   "source": [
    "# 프로그래밍이란?\n",
    "- programming: 프로그래밍 언어를 사용하여 프로그램을 개발하는 것\n",
    "- program: 일련의 작업을 자동화하는 것\n",
    "- python: 프로그래밍 언어 중 하나. 인간이 컴퓨터에게 작업을 명령하기 위해 사용하는 컴퓨터가 이해할 수 있는 언어."
   ]
  },
  {
   "cell_type": "markdown",
   "id": "fc0237bb-8a87-4ea5-b3d6-b49980dc2410",
   "metadata": {},
   "source": [
    "# CH2. Data : Types, Values, Variables, and Names"
   ]
  },
  {
   "cell_type": "code",
   "execution_count": 1,
   "id": "23da5d4b-01c2-4718-8b86-45227b54f90e",
   "metadata": {},
   "outputs": [],
   "source": [
    "a = 2"
   ]
  },
  {
   "cell_type": "markdown",
   "id": "843faae2-0dca-439d-945d-46045799d5fa",
   "metadata": {},
   "source": [
    "- 변수 | variable (i.e.a): 특정 값을 저장하는 공간\n",
    "- 값 | value: 2\n",
    "- 자료형 | type: 2가 어떤 타입인가? 데이터의 형태 (i.e. integer, int 타입)\n",
    "- 할당하다 | aasign: 2를 a에 넣는 과정\n",
    "    - a가 2다 => a == 2 (equal)"
   ]
  },
  {
   "cell_type": "code",
   "execution_count": 2,
   "id": "691d2046-92d0-49f1-964f-3c3e5ffc96b4",
   "metadata": {},
   "outputs": [
    {
     "data": {
      "text/plain": [
       "2"
      ]
     },
     "execution_count": 2,
     "metadata": {},
     "output_type": "execute_result"
    }
   ],
   "source": [
    "a"
   ]
  },
  {
   "cell_type": "code",
   "execution_count": 3,
   "id": "eecb06c8-3356-4f16-807e-5f9b9c610505",
   "metadata": {},
   "outputs": [
    {
     "data": {
      "text/plain": [
       "True"
      ]
     },
     "execution_count": 3,
     "metadata": {},
     "output_type": "execute_result"
    }
   ],
   "source": [
    "a == 2"
   ]
  },
  {
   "cell_type": "markdown",
   "id": "be52b01c-f819-49ce-b745-4f3204e81895",
   "metadata": {
    "tags": []
   },
   "source": [
    "### 변수의 타입\n",
    "- boolean | 불리언 : True, False (bool)\n",
    "- interger | 정수 : 1, 2, 3, 4 …. (int)\n",
    "- floating point number | 부동소수점: 1.0, 2.0, 0.45, …(float)\n",
    "- string | 문자열: “apple”, ‘apple’ (str)"
   ]
  },
  {
   "cell_type": "code",
   "execution_count": 4,
   "id": "c220308f-7934-463d-b28e-34641c06e91a",
   "metadata": {},
   "outputs": [],
   "source": [
    "num = 4"
   ]
  },
  {
   "cell_type": "code",
   "execution_count": 5,
   "id": "24854546-a945-4aa4-8bae-84cf3cb9f636",
   "metadata": {},
   "outputs": [
    {
     "name": "stdout",
     "output_type": "stream",
     "text": [
      "4\n"
     ]
    }
   ],
   "source": [
    "print(num)"
   ]
  },
  {
   "cell_type": "code",
   "execution_count": 6,
   "id": "c9a11484-9c57-4d6e-80d7-f0e62c227452",
   "metadata": {},
   "outputs": [
    {
     "data": {
      "text/plain": [
       "int"
      ]
     },
     "execution_count": 6,
     "metadata": {},
     "output_type": "execute_result"
    }
   ],
   "source": [
    "type(num)"
   ]
  },
  {
   "cell_type": "code",
   "execution_count": 8,
   "id": "b3f94369-7e86-4e2b-b888-3b7c29345bfb",
   "metadata": {},
   "outputs": [
    {
     "data": {
      "text/plain": [
       "float"
      ]
     },
     "execution_count": 8,
     "metadata": {},
     "output_type": "execute_result"
    }
   ],
   "source": [
    "type(1.0)"
   ]
  },
  {
   "cell_type": "code",
   "execution_count": 9,
   "id": "ab33baad-41df-4c98-91a0-355290d24174",
   "metadata": {},
   "outputs": [
    {
     "data": {
      "text/plain": [
       "bool"
      ]
     },
     "execution_count": 9,
     "metadata": {},
     "output_type": "execute_result"
    }
   ],
   "source": [
    "type(a == 2)"
   ]
  },
  {
   "cell_type": "code",
   "execution_count": 11,
   "id": "cef7751a-916d-4945-bbf7-65dbed76c72d",
   "metadata": {},
   "outputs": [
    {
     "name": "stdout",
     "output_type": "stream",
     "text": [
      "my name\n"
     ]
    }
   ],
   "source": [
    "name = 'my name'\n",
    "print(name)"
   ]
  },
  {
   "cell_type": "code",
   "execution_count": 12,
   "id": "bdccd145-daef-4f4b-bee5-e58d40805e85",
   "metadata": {},
   "outputs": [
    {
     "data": {
      "text/plain": [
       "str"
      ]
     },
     "execution_count": 12,
     "metadata": {},
     "output_type": "execute_result"
    }
   ],
   "source": [
    "type(name)"
   ]
  },
  {
   "cell_type": "code",
   "execution_count": 13,
   "id": "ab246213-983e-4323-b480-4b8f94719ae7",
   "metadata": {},
   "outputs": [
    {
     "ename": "NameError",
     "evalue": "name 'my_name' is not defined",
     "output_type": "error",
     "traceback": [
      "\u001b[1;31m---------------------------------------------------------------------------\u001b[0m",
      "\u001b[1;31mNameError\u001b[0m                                 Traceback (most recent call last)",
      "\u001b[1;32m~\\AppData\\Local\\Temp/ipykernel_33656/3553227365.py\u001b[0m in \u001b[0;36m<module>\u001b[1;34m\u001b[0m\n\u001b[1;32m----> 1\u001b[1;33m \u001b[0mmy_name\u001b[0m \u001b[1;31m#변수명으로 인식. 없는 변수 -> 에러\u001b[0m\u001b[1;33m\u001b[0m\u001b[1;33m\u001b[0m\u001b[0m\n\u001b[0m",
      "\u001b[1;31mNameError\u001b[0m: name 'my_name' is not defined"
     ]
    }
   ],
   "source": [
    "my_name #변수명으로 인식. 없는 변수 -> 에러"
   ]
  },
  {
   "cell_type": "code",
   "execution_count": 14,
   "id": "183a251b-09a1-4516-a56b-101eac599710",
   "metadata": {},
   "outputs": [
    {
     "name": "stdout",
     "output_type": "stream",
     "text": [
      "I'm Sam.\n",
      "I'm Sam.\n"
     ]
    }
   ],
   "source": [
    "# single quote 안에 single quote를 문자로 인식하는 방법 -> ‘I’m Sam.’\n",
    "\n",
    "#1. \\ 사용\n",
    "print('I\\'m Sam.')\n",
    "\n",
    "#2. \"\" 사용\n",
    "print(\"I'm Sam.\")"
   ]
  },
  {
   "cell_type": "markdown",
   "id": "e45e776b-c809-4004-996d-13baa726a689",
   "metadata": {},
   "source": [
    "### 변수명 정하기\n",
    "- 소문자, 대문자, 숫자, 언더바(_) 사용한다.\n",
    "    - 예: 'name', 'my_name', 'NAME', 'Name', 'name3'\n",
    "    - 불거능한 예: 'my-name', '3name'\n",
    "- 변수명으로 사용할 수 없는 케이스\n",
    "    - 숫자로 시작할 수 없다.\n",
    "    - 예약어는 변수명으로 사용할 수 없다."
   ]
  },
  {
   "cell_type": "code",
   "execution_count": 24,
   "id": "c645b16a-1ef5-4132-b8b2-8dd5648c720f",
   "metadata": {},
   "outputs": [],
   "source": [
    "#코드가 소설처럼 읽히는 코드가 좋은 코드이기에 좋은 변수명을 짓는 것이 중요. \n",
    "#코드는 남을 위해 쓰기 때문에 직관적으로 이해가 가능해야 함."
   ]
  },
  {
   "cell_type": "code",
   "execution_count": 15,
   "id": "e802b20b-9604-4211-aff7-eb49714a9060",
   "metadata": {},
   "outputs": [
    {
     "data": {
      "text/plain": [
       "'lee'"
      ]
     },
     "execution_count": 15,
     "metadata": {},
     "output_type": "execute_result"
    }
   ],
   "source": [
    "name = 'lee'\n",
    "name"
   ]
  },
  {
   "cell_type": "code",
   "execution_count": 16,
   "id": "921dd02b-87cc-4e97-9158-a94b532d6db0",
   "metadata": {},
   "outputs": [
    {
     "ename": "SyntaxError",
     "evalue": "invalid syntax (Temp/ipykernel_33656/1668009822.py, line 1)",
     "output_type": "error",
     "traceback": [
      "\u001b[1;36m  File \u001b[1;32m\"C:\\Users\\dotoh\\AppData\\Local\\Temp/ipykernel_33656/1668009822.py\"\u001b[1;36m, line \u001b[1;32m1\u001b[0m\n\u001b[1;33m    3name = 'kim' #숫자로 시작하는 경우 변수명으로 사용할 수 없음\u001b[0m\n\u001b[1;37m     ^\u001b[0m\n\u001b[1;31mSyntaxError\u001b[0m\u001b[1;31m:\u001b[0m invalid syntax\n"
     ]
    }
   ],
   "source": [
    "3name = 'kim' #숫자로 시작하는 경우 변수명으로 사용할 수 없음"
   ]
  },
  {
   "cell_type": "code",
   "execution_count": 17,
   "id": "2a9d4cab-bd2b-473c-8f97-1262163d6930",
   "metadata": {},
   "outputs": [
    {
     "ename": "SyntaxError",
     "evalue": "invalid syntax (Temp/ipykernel_33656/1991180807.py, line 1)",
     "output_type": "error",
     "traceback": [
      "\u001b[1;36m  File \u001b[1;32m\"C:\\Users\\dotoh\\AppData\\Local\\Temp/ipykernel_33656/1991180807.py\"\u001b[1;36m, line \u001b[1;32m1\u001b[0m\n\u001b[1;33m    def = 'Hwang' #예약어는 변수명으로 사용할 수 없음\u001b[0m\n\u001b[1;37m        ^\u001b[0m\n\u001b[1;31mSyntaxError\u001b[0m\u001b[1;31m:\u001b[0m invalid syntax\n"
     ]
    }
   ],
   "source": [
    "def = 'Hwang' #예약어는 변수명으로 사용할 수 없음"
   ]
  },
  {
   "cell_type": "code",
   "execution_count": 22,
   "id": "e3820890-a370-49e5-9ba3-fad696bcf50a",
   "metadata": {},
   "outputs": [
    {
     "name": "stdout",
     "output_type": "stream",
     "text": [
      "\n",
      "Here is a list of the Python keywords.  Enter any keyword to get more help.\n",
      "\n",
      "False               break               for                 not\n",
      "None                class               from                or\n",
      "True                continue            global              pass\n",
      "__peg_parser__      def                 if                  raise\n",
      "and                 del                 import              return\n",
      "as                  elif                in                  try\n",
      "assert              else                is                  while\n",
      "async               except              lambda              with\n",
      "await               finally             nonlocal            yield\n",
      "\n"
     ]
    }
   ],
   "source": [
    "#예약어 전체보기\n",
    "help(\"keywords\")"
   ]
  },
  {
   "cell_type": "markdown",
   "id": "0d9338bc-d289-4765-96e5-b221e53ee13b",
   "metadata": {},
   "source": [
    "- 주의할 점 (특별한 용도가 있어서 일반적으로 사용하지 않는 변수명 타입)\n",
    "    1. 언더바로 시작하는 변수명 예: _name\n",
    "    2. 언더바가 2개 있는 변수명 예: name\n",
    "    3. 대문자로 시작하는 변수명 예: Car\n",
    "    4. 전체가 대문자인 변수명 예: CAR"
   ]
  },
  {
   "cell_type": "code",
   "execution_count": 19,
   "id": "15e51c02-1c74-401b-bdb2-3a8bc58e1034",
   "metadata": {},
   "outputs": [],
   "source": [
    "#number != Number\n",
    "world1 = 'number'\n",
    "world2 = 'Number'"
   ]
  },
  {
   "cell_type": "code",
   "execution_count": 21,
   "id": "e396602b-cd1d-4216-96f5-1014cafefa74",
   "metadata": {},
   "outputs": [
    {
     "data": {
      "text/plain": [
       "False"
      ]
     },
     "execution_count": 21,
     "metadata": {},
     "output_type": "execute_result"
    }
   ],
   "source": [
    "world1 == world2 #대소문자를 구분함"
   ]
  },
  {
   "cell_type": "markdown",
   "id": "833d49e5-4766-44fd-9aad-815edc22c1e0",
   "metadata": {},
   "source": [
    "### 할당하기\n",
    "- = 기호를 사용함\n",
    "- 수학에서는 =가 양변이 같음을 의미하지만, 프로그램에서는 할당을 의미\n",
    "    - 예: name = lee (lee라는 값을 name에 넣는다.)\n",
    "- 오른쪽에 있는 모든 것은 값을 가져야 함 ('초기화')\n",
    "- 같은 변수에 다른 값을 넣을 수 있음"
   ]
  },
  {
   "cell_type": "code",
   "execution_count": 25,
   "id": "a8d8ba50-e593-4cf0-b7af-4aaaed840fca",
   "metadata": {},
   "outputs": [],
   "source": [
    "car = 'hyundai'"
   ]
  },
  {
   "cell_type": "code",
   "execution_count": 26,
   "id": "2c091eda-bab6-4780-af12-b11140bdfa71",
   "metadata": {},
   "outputs": [
    {
     "ename": "NameError",
     "evalue": "name 'kia' is not defined",
     "output_type": "error",
     "traceback": [
      "\u001b[1;31m---------------------------------------------------------------------------\u001b[0m",
      "\u001b[1;31mNameError\u001b[0m                                 Traceback (most recent call last)",
      "\u001b[1;32m~\\AppData\\Local\\Temp/ipykernel_33656/3123801203.py\u001b[0m in \u001b[0;36m<module>\u001b[1;34m\u001b[0m\n\u001b[1;32m----> 1\u001b[1;33m \u001b[0mtruck\u001b[0m \u001b[1;33m=\u001b[0m \u001b[0mkia\u001b[0m \u001b[1;31m#없는 값이기에 에러 발생\u001b[0m\u001b[1;33m\u001b[0m\u001b[1;33m\u001b[0m\u001b[0m\n\u001b[0m",
      "\u001b[1;31mNameError\u001b[0m: name 'kia' is not defined"
     ]
    }
   ],
   "source": [
    "truck = kia #없는 값이기에 에러 발생"
   ]
  },
  {
   "cell_type": "code",
   "execution_count": 27,
   "id": "e6251335-5979-4435-bcd4-c7a09a704a1f",
   "metadata": {},
   "outputs": [],
   "source": [
    "kia = 'kia'\n",
    "truck = kia #초기화 함"
   ]
  },
  {
   "cell_type": "code",
   "execution_count": 28,
   "id": "fa3c40f5-b045-4acf-9689-94cac4009979",
   "metadata": {},
   "outputs": [
    {
     "name": "stdout",
     "output_type": "stream",
     "text": [
      "2 12\n"
     ]
    }
   ],
   "source": [
    "x = 2\n",
    "y = x + 10\n",
    "print(x,y)"
   ]
  },
  {
   "cell_type": "code",
   "execution_count": 30,
   "id": "4e32f372-337a-456f-9f23-033fd031cb84",
   "metadata": {},
   "outputs": [
    {
     "data": {
      "text/plain": [
       "str"
      ]
     },
     "execution_count": 30,
     "metadata": {},
     "output_type": "execute_result"
    }
   ],
   "source": [
    "type(car) #str"
   ]
  },
  {
   "cell_type": "code",
   "execution_count": 31,
   "id": "972fdfe5-f510-490f-90f6-7e253d5a90c1",
   "metadata": {},
   "outputs": [],
   "source": [
    "#str car = 'kia'\n",
    "car = 'kia' #원래 할당되어있던 'hyundai'가 아닌 'kia'로 덮어씌우므로 기존의 값은 없어짐"
   ]
  },
  {
   "cell_type": "code",
   "execution_count": 32,
   "id": "63020157-0e86-4968-b1af-a35881a6cee9",
   "metadata": {},
   "outputs": [
    {
     "data": {
      "text/plain": [
       "'kia'"
      ]
     },
     "execution_count": 32,
     "metadata": {},
     "output_type": "execute_result"
    }
   ],
   "source": [
    "car"
   ]
  }
 ],
 "metadata": {
  "kernelspec": {
   "display_name": "Python 3 (ipykernel)",
   "language": "python",
   "name": "python3"
  },
  "language_info": {
   "codemirror_mode": {
    "name": "ipython",
    "version": 3
   },
   "file_extension": ".py",
   "mimetype": "text/x-python",
   "name": "python",
   "nbconvert_exporter": "python",
   "pygments_lexer": "ipython3",
   "version": "3.9.7"
  }
 },
 "nbformat": 4,
 "nbformat_minor": 5
}
